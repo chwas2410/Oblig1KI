{
 "cells": [
  {
   "cell_type": "code",
   "execution_count": null,
   "metadata": {},
   "outputs": [],
   "source": [
    "#Import modules\n",
    "%matplotlib inline\n",
    "import pandas as pd\n",
    "import numpy as np\n",
    "from scipy import stats\n",
    "import matplotlib.pyplot as plt\n",
    "import seaborn as sns\n",
    "import re\n"
   ]
  },
  {
   "cell_type": "code",
   "execution_count": null,
   "metadata": {},
   "outputs": [],
   "source": [
    "#Gruppe: Mandatory Assignment 1 - 5\n",
    "#Charlotte Wassnes 385529\n",
    "#Johannes Eggesbø 385491\n",
    "#Bendik Enger \n",
    "#Johannes Sæther"
   ]
  },
  {
   "cell_type": "code",
   "execution_count": null,
   "metadata": {},
   "outputs": [],
   "source": [
    "#Oppgave 1\n",
    "#Importering av dataset\n",
    "Grc_df = pd.read_csv('Grocery_dataset.csv')\n",
    "\n",
    "#Print av de 10 øverste linjene, og 10 nederste. Brukte print får å få alle verdiene ut. Hadde man bare skrevet eks. Grc_df.head(10) med Grc_head.tail(10) under\n",
    "#kommer bare den siste ut. Head skriver ut de øverste i listen, tail skriver ut de nesderste og shape teller kolonner og rader\n",
    "print(Grc_df.head(10), Grc_df.tail(10), Grc_df.shape)"
   ]
  },
  {
   "cell_type": "code",
   "execution_count": null,
   "metadata": {},
   "outputs": [],
   "source": [
    "#Oppgave 2\n",
    "# Sjekker om det finnes nullverdier\n",
    "Grc_df.isnull().sum()\n"
   ]
  },
  {
   "cell_type": "code",
   "execution_count": null,
   "metadata": {},
   "outputs": [],
   "source": [
    "# Håndtering av nullverdier\n",
    "# Item_Weight (numerisk) → fyll med gjennomsnitt\n",
    "Grc_df['Item_Weight'].fillna(Grc_df['Item_Weight'].mean(), inplace=True)\n",
    "\n",
    "# Outlet_Size (kategorisk) → fyll med modus (mest vanlige verdi)\n",
    "Grc_df['Outlet_Size'].fillna(Grc_df['Outlet_Size'].mode()[0], inplace=True)\n",
    "\n",
    "# Dobbeltsjekk at nullverdier er fjernet\n",
    "print(\"\\nEtter håndtering av nullverdier:\\n\", Grc_df.isnull().sum())"
   ]
  },
  {
   "cell_type": "code",
   "execution_count": null,
   "metadata": {},
   "outputs": [],
   "source": [
    "#Oppgave 3\n",
    "#Sjekk unike Outlet størrelser\n",
    "print(\"Unique values in Outlet_Size:\", Grc_df['Outlet_Size'].unique())\n",
    "\n",
    "#Telle hvor mange unike outlets (excluding NaN)\n",
    "print(\"Number of unique Outlet_Size values:\", Grc_df['Outlet_Size'].nunique())\n",
    "\n",
    "#Count frequency of each Outlet_Size\n",
    "outlet_size_counts = Grc_df['Outlet_Size'].value_counts()\n",
    "print(\"\\nCounts for each Outlet_Size:\\n\", outlet_size_counts)\n",
    "\n",
    "#Find maximum and minimum outlet sizes by frequency\n",
    "print(\"\\nMost frequent (max) Outlet_Size:\", outlet_size_counts.idxmax(), \n",
    "      \"with\", outlet_size_counts.max(), \"occurrences\")\n",
    "\n",
    "print(\"Least frequent (min) Outlet_Size:\", outlet_size_counts.idxmin(), \n",
    "      \"with\", outlet_size_counts.min(), \"occurrences\")"
   ]
  },
  {
   "cell_type": "code",
   "execution_count": null,
   "metadata": {},
   "outputs": [],
   "source": [
    "#Oppgave4 \n",
    "\n",
    "# Finn unike Item_Fat_Content verdier\n",
    "unique_fat = Grc_df['Item_Fat_Content'].unique()\n",
    "print(\"Unique Item_Fat_Content types:\", unique_fat)\n",
    "\n",
    "# Tell hver gang noe blit funnet, printer ut alle verdiene i en liste.\n",
    "print(\"\\nCounts per type:\\n\", Grc_df['Item_Fat_Content'].value_counts())\n",
    "\n"
   ]
  },
  {
   "cell_type": "code",
   "execution_count": null,
   "metadata": {},
   "outputs": [],
   "source": [
    "# Standariser Item_Fat_Content så man slipper duplikater som betyr det samme. \n",
    "Grc_df['Item_Fat_Content'] = Grc_df['Item_Fat_Content'].replace({\n",
    "    'low fat': 'Low Fat',\n",
    "    'LF': 'Low Fat',\n",
    "    'reg': 'Regular'\n",
    "})\n",
    "\n",
    "# Skjekk igjen om det ble fikset \n",
    "print(Grc_df['Item_Fat_Content'].unique())"
   ]
  },
  {
   "cell_type": "code",
   "execution_count": null,
   "metadata": {},
   "outputs": [],
   "source": [
    "#Oppgave 5\n",
    "\n",
    "#  Den lager en kopi av DataFrame-en uten kolonnene på posisjon 0 og 6.\n",
    "Grc_new_df = Grc_df.drop(Grc_df.columns[[0, 6]], axis=1)\n",
    "\n",
    "#Viser den nye DataFrame \n",
    "print(\"Shape of Grc_new_df:\", Grc_new_df.shape)\n",
    "\n",
    "# Vis de første radene\n",
    "Grc_new_df.head()"
   ]
  },
  {
   "cell_type": "code",
   "execution_count": null,
   "metadata": {},
   "outputs": [],
   "source": [
    "#Oppgave 6\n",
    "#Lager to forskjelllige typer lister. (dataframes)\n",
    "SupType_1 = Grc_new_df[Grc_new_df['Outlet_Type'] == 'Supermarket Type1']\n",
    "SupType_2 = Grc_new_df[Grc_new_df['Outlet_Type'] == 'Supermarket Type2']\n",
    "\n",
    "print(SupType_1)"
   ]
  },
  {
   "cell_type": "code",
   "execution_count": null,
   "metadata": {},
   "outputs": [],
   "source": [
    "#Oppgave 7\n",
    "# Bruk ggplot stil\n",
    "sns.set_style(\"whitegrid\")\n",
    "\n",
    "# Lager subplots (2 rader, 1 kolonne)\n",
    "fig, axes = plt.subplots(2, 1, figsize=(8, 10))\n",
    "\n",
    "# Boxplot for SupType_1\n",
    "sns.boxplot(x=SupType_1['Item_MRP'], ax=axes[0], color=\"skyblue\")\n",
    "axes[0].set_title(\"Item_MRP - SupType_1\")\n",
    "\n",
    "# Boxplot for SupType_2\n",
    "sns.boxplot(x=SupType_2['Item_MRP'], ax=axes[1], color=\"lightgreen\")\n",
    "axes[1].set_title(\"Item_MRP - SupType_2\")\n",
    "\n",
    "plt.tight_layout()\n",
    "plt.show()"
   ]
  },
  {
   "cell_type": "code",
   "execution_count": null,
   "metadata": {},
   "outputs": [],
   "source": [
    "#Oppgave 8\n",
    "# Slår sammen de to DataFrames (SupType_1 og SupType_2)\n",
    "Grc_Concat_df = pd.concat([SupType_1, SupType_2])\n",
    "\n",
    "# Sorterer etter kolonnen Item_Outlet_Sales i stigende rekkefølge\n",
    "Grc_Concat_df = Grc_Concat_df.sort_values(by=\"Item_Outlet_Sales\", ascending=True)\n",
    "\n",
    "# Henter ut Outlet_Location_Type for raden med lavest salg\n",
    "lowest_sales_location = Grc_Concat_df.iloc[0]['Outlet_Location_Type']\n",
    "\n",
    "print(\"Outlet_Location_Type for butikken med lavest salg:\", lowest_sales_location)\n"
   ]
  },
  {
   "cell_type": "code",
   "execution_count": null,
   "metadata": {},
   "outputs": [],
   "source": [
    "#oppgave 9 \n",
    "\n",
    "# Lag den sammensatte indeksen\n",
    "Grc_Concat_multi_index = Grc_Concat_df.set_index(['Outlet_Size', 'Outlet_Location_Type'])\n",
    "\n",
    "# Skriv ut de første radene for å vise den nye indeksen\n",
    "print(\"Dataframe med sammensatt indeks (første 5 rader):\")\n",
    "print(Grc_Concat_multi_index.head())\n"
   ]
  },
  {
   "cell_type": "code",
   "execution_count": null,
   "metadata": {},
   "outputs": [],
   "source": [
    "#oppgave 10 \n",
    "\n",
    "# Del 'Item_Weight'-kolonnen inn i 10 \"bøtter\"\n",
    "bins = pd.cut(Grc_Concat_df['Item_Weight'], bins=10)\n",
    "\n",
    "# Grupper etter bøttene og beregn statistikken\n",
    "bucket_stats = Grc_Concat_df.groupby(bins)['Item_Weight'].agg(['count', 'min', 'max', 'mean'])\n",
    "\n",
    "# Skriv ut statistikken for hver \"bøtte\"\n",
    "print(\"\\nStatistikk for Item_Weight, delt inn i 10 intervaller:\")\n",
    "print(bucket_stats)"
   ]
  }
 ],
 "metadata": {
  "kernelspec": {
   "display_name": "oblig1ki",
   "language": "python",
   "name": "python3"
  },
  "language_info": {
   "codemirror_mode": {
    "name": "ipython",
    "version": 3
   },
   "file_extension": ".py",
   "mimetype": "text/x-python",
   "name": "python",
   "nbconvert_exporter": "python",
   "pygments_lexer": "ipython3",
   "version": "3.12.6"
  },
  "orig_nbformat": 4
 },
 "nbformat": 4,
 "nbformat_minor": 2
}
